{
 "cells": [
  {
   "cell_type": "code",
   "execution_count": null,
   "metadata": {
    "collapsed": true
   },
   "outputs": [],
   "source": [
    "import os\n",
    "import pandas as pd\n",
    "import numpy as np\n",
    "import matplotlib.pyplot as plt"
   ]
  },
  {
   "cell_type": "code",
   "execution_count": null,
   "metadata": {
    "collapsed": true
   },
   "outputs": [],
   "source": [
    "# nice, interactive plotting.\n",
    "%matplotlib notebook"
   ]
  },
  {
   "cell_type": "code",
   "execution_count": null,
   "metadata": {
    "collapsed": true
   },
   "outputs": [],
   "source": [
    "# if KSPDIR is set, load the telemetry file from the game directory. Otherwise, load from current directory\n",
    "if \"KSPDIR\" in os.environ:\n",
    "    telemetry_file = os.path.join(os.environ[\"KSPDIR\"], r\"GameData\\Telemetry\\Trajectories.csv\")\n",
    "else:\n",
    "    telemetry_file = \"Trajectories.csv\""
   ]
  },
  {
   "cell_type": "code",
   "execution_count": null,
   "metadata": {
    "collapsed": true
   },
   "outputs": [],
   "source": [
    "telemetry_file = \"./kerbin-half-nocache_1.7.0.csv\""
   ]
  },
  {
   "cell_type": "code",
   "execution_count": null,
   "metadata": {
    "collapsed": true
   },
   "outputs": [],
   "source": [
    "data = pd.read_csv(telemetry_file, sep='\\t')\n",
    "data.fillna(method=\"ffill\", inplace=True) # fill everything we can with the previous value"
   ]
  },
  {
   "cell_type": "code",
   "execution_count": null,
   "metadata": {
    "collapsed": true
   },
   "outputs": [],
   "source": [
    "# shift time axis to start with 0\n",
    "data[\"ut\"] -= data[\"ut\"][0]"
   ]
  },
  {
   "cell_type": "code",
   "execution_count": null,
   "metadata": {
    "collapsed": true
   },
   "outputs": [],
   "source": [
    "data.set_index(\"ut\", inplace=True)"
   ]
  },
  {
   "cell_type": "code",
   "execution_count": null,
   "metadata": {},
   "outputs": [],
   "source": [
    "# show all channels for a summary\n",
    "data.plot(subplots=True, title=\"Telemetry\");"
   ]
  },
  {
   "cell_type": "code",
   "execution_count": null,
   "metadata": {
    "collapsed": true
   },
   "outputs": [],
   "source": [
    "## arbitrary value, dependent on your trajectory. Please choose appropriately (for example at crash time)\n",
    "# meas_cutoff = 730\n",
    "# d = data[((data[\"altitude\"] < 90000) & (data.ut < meas_cutoff))]"
   ]
  },
  {
   "cell_type": "code",
   "execution_count": null,
   "metadata": {
    "collapsed": true
   },
   "outputs": [],
   "source": [
    "# trim data\n",
    "# We want the data in the atmosphere, so we clip everything where the air temperature is <= 4K and the airspeed is too small\n",
    "d = data[((data[\"temperature\"] > 4) & (data[\"airspeed\"] > 100))]"
   ]
  },
  {
   "cell_type": "code",
   "execution_count": null,
   "metadata": {
    "collapsed": true
   },
   "outputs": [],
   "source": [
    "# High-Altitude Data\n",
    "d = data[data[\"altitude\"].between(66000, 70000)]"
   ]
  },
  {
   "cell_type": "markdown",
   "metadata": {},
   "source": [
    "## Angle of Attack"
   ]
  },
  {
   "cell_type": "code",
   "execution_count": null,
   "metadata": {},
   "outputs": [],
   "source": [
    "plt.figure();\n",
    "aoa_dev = 180 - np.abs(d[\"aoa\"])\n",
    "plt.plot(aoa_dev)\n",
    "plt.ylabel(\"AoA deviation [°]\")\n",
    "plt.xlabel(\"ut [s]\")\n",
    "plt.title(\"Deviation from Retrograde\");\n",
    "# plt.ylim([0.0, 0.1])\n",
    "plt.show();"
   ]
  },
  {
   "cell_type": "code",
   "execution_count": null,
   "metadata": {},
   "outputs": [],
   "source": [
    "np.min(d[\"force_actual\"])"
   ]
  },
  {
   "cell_type": "markdown",
   "metadata": {},
   "source": [
    "## Forces"
   ]
  },
  {
   "cell_type": "code",
   "execution_count": null,
   "metadata": {},
   "outputs": [],
   "source": [
    "# plt.figure();\n",
    "ax = (d[[\"force_actual\", \"force_predicted\"]]).plot()\n",
    "ax.set_ylabel(\"force [kN]\");\n",
    "ax = d[\"altitude\"].plot(ax=ax, secondary_y=True, legend=True)\n",
    "ax.set_ylabel(\"Altitude [m]\")\n",
    "plt.xlabel(\"ut [s]\")\n",
    "plt.xlim([d.index[0], d.index[-1]])\n",
    "plt.title(\"Forces actual/predicted overview\");\n",
    "plt.show();"
   ]
  },
  {
   "cell_type": "code",
   "execution_count": null,
   "metadata": {},
   "outputs": [],
   "source": [
    "plt.figure();\n",
    "ax = (d[\"force_predicted\"] / d[\"force_actual\"]).plot()\n",
    "plt.ylabel(\"Force ratio [-]\")\n",
    "# ax.set_ylim([0.0, 2])\n",
    "ax.axhline(y=1.0, color='r', linestyle='--')\n",
    "ax = d[\"altitude\"].plot(ax=ax, secondary_y=True)\n",
    "ax.set_ylabel(\"Altitude [m]\")\n",
    "plt.xlabel(\"ut [s]\")\n",
    "plt.xlim([d.index[0], d.index[-1]])\n",
    "plt.title(\"Force prediction/actual ratio\");\n",
    "plt.show();"
   ]
  },
  {
   "cell_type": "code",
   "execution_count": null,
   "metadata": {},
   "outputs": [],
   "source": [
    "plt.figure();\n",
    "ax = ((d[\"force_predicted\"] - d[\"force_actual\"])/d[\"force_actual\"]).plot()\n",
    "ax.set_ylabel(\"Force difference [-]\")\n",
    "ax.axhline(y=0.0, color='r', linestyle='--')\n",
    "ax = d[\"altitude\"].plot(ax=ax, secondary_y=True, legend=True)\n",
    "ax.set_ylabel(\"Altitude [m]\")\n",
    "plt.xlabel(\"ut [s]\")\n",
    "plt.xlim([d.index[0], d.index[-1]])\n",
    "plt.title(\"Relative force difference between predicted and actual\");\n",
    "plt.show();"
   ]
  },
  {
   "cell_type": "code",
   "execution_count": null,
   "metadata": {},
   "outputs": [],
   "source": [
    "plt.figure();\n",
    "ax = ((d[\"density_calc\"] - d[\"density\"])/d[\"density\"]).plot()\n",
    "ax.set_ylabel(\"density difference [-]\")\n",
    "ax.axhline(y=0.0, color='r', linestyle='--')\n",
    "ax = d[\"altitude\"].plot(ax=ax, secondary_y=True, legend=True)\n",
    "ax.set_ylabel(\"Altitude [m]\")\n",
    "plt.xlabel(\"ut [s]\")\n",
    "plt.xlim([d.index[0], d.index[-1]])\n",
    "plt.title(\"Relative density difference between predicted and actual\");\n",
    "plt.show();"
   ]
  },
  {
   "cell_type": "code",
   "execution_count": null,
   "metadata": {},
   "outputs": [],
   "source": [
    "plt.figure();\n",
    "ax = ((d[\"temperature_calc\"] - d[\"temperature\"])/d[\"temperature\"]).plot()\n",
    "ax.set_ylabel(\"temperature difference [-]\")\n",
    "ax.axhline(y=0.0, color='r', linestyle='--')\n",
    "ax = d[\"altitude\"].plot(ax=ax, secondary_y=True, legend=True)\n",
    "ax.set_ylabel(\"Altitude [m]\")\n",
    "plt.xlabel(\"ut [s]\")\n",
    "plt.xlim([d.index[0], d.index[-1]])\n",
    "plt.title(\"Relative temperature difference between predicted and actual\");\n",
    "plt.show();"
   ]
  },
  {
   "cell_type": "code",
   "execution_count": null,
   "metadata": {
    "collapsed": true
   },
   "outputs": [],
   "source": []
  }
 ],
 "metadata": {
  "kernelspec": {
   "display_name": "Python 3",
   "language": "python",
   "name": "python3"
  },
  "language_info": {
   "codemirror_mode": {
    "name": "ipython",
    "version": 3
   },
   "file_extension": ".py",
   "mimetype": "text/x-python",
   "name": "python",
   "nbconvert_exporter": "python",
   "pygments_lexer": "ipython3",
   "version": "3.6.1"
  }
 },
 "nbformat": 4,
 "nbformat_minor": 2
}
